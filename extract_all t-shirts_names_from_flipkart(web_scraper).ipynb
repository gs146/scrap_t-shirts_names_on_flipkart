{
 "cells": [
  {
   "cell_type": "code",
   "execution_count": 148,
   "metadata": {},
   "outputs": [],
   "source": [
    "#----------"
   ]
  },
  {
   "cell_type": "code",
   "execution_count": 161,
   "metadata": {},
   "outputs": [],
   "source": [
    "from  selenium import webdriver\n",
    "chrome_path = r\"C:\\Users\\hp\\Downloads\\chromedriver_win32\\chromedriver.exe\"\n",
    "driver = webdriver.Chrome(chrome_path)\n",
    "# driver.get(\"https://vancouver.craigslist.com\")\n",
    "driver.get(\"https://www.flipkart.com\")"
   ]
  },
  {
   "cell_type": "code",
   "execution_count": 162,
   "metadata": {},
   "outputs": [],
   "source": [
    "driver.find_element_by_xpath(\"\"\"/html/body/div[2]/div/div/button\"\"\").click()"
   ]
  },
  {
   "cell_type": "code",
   "execution_count": 163,
   "metadata": {},
   "outputs": [],
   "source": [
    "driver.find_element_by_xpath(\"\"\"//*[@id=\"container\"]/div/div[2]/div/ul/li[3]/span\"\"\").click()\n"
   ]
  },
  {
   "cell_type": "code",
   "execution_count": 164,
   "metadata": {},
   "outputs": [],
   "source": [
    "driver.find_element_by_xpath(\"\"\"//*[@id=\"container\"]/div/div[2]/div/ul/li[3]/ul/li/ul/li[2]/ul/li[3]/a\"\"\").click()\n",
    "\n"
   ]
  },
  {
   "cell_type": "code",
   "execution_count": 165,
   "metadata": {},
   "outputs": [],
   "source": [
    "posts = driver.find_elements_by_class_name(\"_2B_pmu\")"
   ]
  },
  {
   "cell_type": "code",
   "execution_count": 166,
   "metadata": {},
   "outputs": [
    {
     "name": "stdout",
     "output_type": "stream",
     "text": [
      "Tripr\n",
      "U.S. Polo Assn\n",
      "Helmont\n",
      "Metronaut\n",
      "Metronaut\n",
      "Tripr\n",
      "Peter England\n",
      "Tripr\n",
      "Metronaut\n",
      "Tripr\n",
      "Try This\n",
      "THE EG STORE\n",
      "Helmont\n",
      "Youthen\n",
      "Peter England\n",
      "Young Trendz\n",
      "Metronaut\n",
      "SHAPPHR\n",
      "Tripr\n",
      "London Hills\n",
      "Try This\n",
      "Maniac\n",
      "SHAPPHR\n",
      "RS Print\n",
      "Tripr\n",
      "Gritstones\n",
      "Metronaut\n",
      "Try This\n",
      "Tripr\n",
      "Rodid\n",
      "Try This\n",
      "Tripr\n",
      "GHPC\n",
      "Smartees\n",
      "Aelomart\n",
      "Try This\n",
      "Tripr\n",
      "REEBOK\n",
      "Metronaut\n",
      "Wrath\n"
     ]
    }
   ],
   "source": [
    "for item in posts:\n",
    "    print(item.text)"
   ]
  },
  {
   "cell_type": "code",
   "execution_count": null,
   "metadata": {},
   "outputs": [],
   "source": []
  }
 ],
 "metadata": {
  "kernelspec": {
   "display_name": "Python 3",
   "language": "python",
   "name": "python3"
  },
  "language_info": {
   "codemirror_mode": {
    "name": "ipython",
    "version": 3
   },
   "file_extension": ".py",
   "mimetype": "text/x-python",
   "name": "python",
   "nbconvert_exporter": "python",
   "pygments_lexer": "ipython3",
   "version": "3.6.8"
  }
 },
 "nbformat": 4,
 "nbformat_minor": 2
}
